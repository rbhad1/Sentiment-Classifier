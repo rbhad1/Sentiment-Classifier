{
 "cells": [
  {
   "cell_type": "code",
   "execution_count": 1,
   "metadata": {},
   "outputs": [],
   "source": [
    "from transformers import BertForSequenceClassification, BertTokenizer, RobertaTokenizerFast, RobertaForSequenceClassification, BertForSequenceClassification, AutoTokenizer, AutoModelForSequenceClassification, XLNetForSequenceClassification, XLNetTokenizerFast\n",
    "from transformers import AutoTokenizer\n",
    "import torch\n",
    "from torch.utils.data import TensorDataset, DataLoader\n",
    "import torch.optim as optim\n",
    "import torch.nn as nn\n",
    "from sklearn.metrics import f1_score, accuracy_score, precision_score, recall_score\n",
    "from sklearn.model_selection import train_test_split\n",
    "import pandas as pd\n",
    "import os\n",
    "import matplotlib.pyplot as plt\n",
    "from IPython import display\n",
    "import numpy as np\n",
    "\n"
   ]
  },
  {
   "cell_type": "code",
   "execution_count": 2,
   "metadata": {},
   "outputs": [],
   "source": [
    "# helper method to plot loss curves\n",
    "\n",
    "\n",
    "def plot_loss(output_losses, val_losses, epochs, dynamic):\n",
    "    x=np.arange(len(output_losses))\n",
    "\n",
    "    y_output=np.array(output_losses)\n",
    "    y_val=np.array(val_losses)\n",
    "\n",
    "    print(x, x.shape) # 2\n",
    "    print(y_output, y_output.shape) # 2\n",
    "    print(y_val, y_val.shape) # 1\n",
    "\n",
    "\n",
    "    plt.xlabel('Epochs')\n",
    "    plt.ylabel('Loss')\n",
    "    plt.title('Training and Validation Loss')\n",
    "\n",
    "    plt.plot(x, y_output, label='Training Loss', color='b')\n",
    "    plt.plot(x, y_val, label='Validation Loss', color='r')\n",
    "\n",
    "    plt.legend()\n",
    "    plt.show()\n",
    "\n",
    "    plt.pause(0.5)\n",
    "\n",
    "    display.display(plt.gcf())\n",
    "    if dynamic:\n",
    "        display.clear_output(wait=True)\n",
    "\n",
    "\n",
    "\n",
    "\n"
   ]
  },
  {
   "cell_type": "code",
   "execution_count": 3,
   "metadata": {},
   "outputs": [],
   "source": [
    "import chardet\n",
    "\n",
    "with open(\"data.csv\", \"rb\") as f:\n",
    "    result = chardet.detect(f.read())\n"
   ]
  },
  {
   "cell_type": "code",
   "execution_count": 4,
   "metadata": {},
   "outputs": [],
   "source": [
    "# read data \n",
    "data = pd.read_csv(\"data.csv\", encoding='windows-1252')\n"
   ]
  },
  {
   "cell_type": "code",
   "execution_count": 5,
   "metadata": {},
   "outputs": [],
   "source": [
    "global EPOCHS, LR, BATCH_SIZE, EVAL_EVERY, SEED\n",
    "EPOCHS=10\n",
    "LR=1e-5\n",
    "BATCH_SIZE=15\n",
    "SEED=123"
   ]
  },
  {
   "cell_type": "code",
   "execution_count": 6,
   "metadata": {},
   "outputs": [],
   "source": [
    "# split data into training and testing\n",
    "\n",
    "training_set, testing_set = train_test_split(data, test_size=0.2, train_size=0.8, random_state=SEED)\n",
    "\n",
    "\n"
   ]
  },
  {
   "cell_type": "code",
   "execution_count": 7,
   "metadata": {},
   "outputs": [],
   "source": [
    "\n",
    "\n",
    "# preprocess data\n",
    "\n",
    "# extract sentences and labels from datasata\n",
    "def preprocess(data):\n",
    "    sentences=data['sentences'].tolist()\n",
    "\n",
    "    sentiment_labels_dict={'dovish':0, 'hawkish':1, 'neutral':2, 'irrelevant':3}\n",
    "    sentiment_labels_encoded=[]\n",
    "    for sentiment_label in data['sentiment_label']:\n",
    "        sentiment_labels_encoded.append(sentiment_labels_dict[sentiment_label]) # tensor can only hold ints\n",
    "\n",
    "\n",
    "    # tokensize and return TensorDataset\n",
    "\n",
    "    tokenizer = BertTokenizer.from_pretrained('bert-base-uncased') # encodes the data such that the model can process it\n",
    "    tokens=tokenizer(sentences, return_tensors='pt', padding=True, truncation=True, max_length=256) # pytorch tensor\n",
    "    \n",
    "    return TensorDataset(tokens['input_ids'], tokens['attention_mask'], torch.LongTensor(sentiment_labels_encoded))\n",
    "\n",
    "\n"
   ]
  },
  {
   "cell_type": "code",
   "execution_count": 8,
   "metadata": {},
   "outputs": [
    {
     "name": "stderr",
     "output_type": "stream",
     "text": [
      "c:\\Users\\riyaa\\AppData\\Local\\Programs\\Python\\Python310\\lib\\site-packages\\transformers\\tokenization_utils_base.py:1601: FutureWarning: `clean_up_tokenization_spaces` was not set. It will be set to `True` by default. This behavior will be depracted in transformers v4.45, and will be then set to `False` by default. For more details check this issue: https://github.com/huggingface/transformers/issues/31884\n",
      "  warnings.warn(\n"
     ]
    }
   ],
   "source": [
    "# dataloaders\n",
    "\n",
    "train_dataloader=DataLoader(preprocess(training_set), batch_size=BATCH_SIZE, shuffle=True)\n",
    "test_dataloader=DataLoader(preprocess(testing_set), batch_size=BATCH_SIZE, shuffle=False)\n",
    "\n",
    "batch = next(iter(test_dataloader))\n",
    "x1, x2, x3 = batch \n",
    "# print(f\"X1: {(x1.size())}....X2: {x2.size()}....X3: {x3.size()}\")\n",
    "# print(f\"X1: {(type(x1))}....X2: {type(x2)}....X3: {type(x3)}\")\n",
    "\n",
    "\n",
    "      \n",
    "# print(f\"Test Features {test_features}, Test Labels {test_labels}\")"
   ]
  },
  {
   "cell_type": "code",
   "execution_count": 9,
   "metadata": {},
   "outputs": [
    {
     "name": "stderr",
     "output_type": "stream",
     "text": [
      "Some weights of BertForSequenceClassification were not initialized from the model checkpoint at bert-base-uncased and are newly initialized: ['classifier.bias', 'classifier.weight']\n",
      "You should probably TRAIN this model on a down-stream task to be able to use it for predictions and inference.\n"
     ]
    }
   ],
   "source": [
    "# training loop\n",
    "\n",
    "model = BertForSequenceClassification.from_pretrained(\"bert-base-uncased\", num_labels=4) # doing model=BertForSequenceClassification passes in the class itself not an instance of the class\n",
    "\n",
    "def training_loop(PLOT_LOSSES=True):\n",
    "\n",
    "    optimizer=optim.AdamW(model.parameters(), lr=LR)\n",
    "    loss=nn.CrossEntropyLoss()\n",
    "\n",
    "    training_losses=[]\n",
    "    val_loss_list=[]\n",
    "\n",
    "    for i in range(EPOCHS+1):\n",
    "        total_loss=0\n",
    "        model.train() # training mode (there are two modes: training and evaluation)\n",
    "        for batch in train_dataloader:\n",
    "            inputs, masks, labels = batch # input_id is tokenized form of input, attention_mask: which tokens refer to an item in the dataset and which is padding, etc\n",
    "            \n",
    "            # print(\"Labels:\", labels)\n",
    "\n",
    "            optimizer.zero_grad()\n",
    "            outputs = model(inputs, attention_mask=masks, labels=labels) # forward pass, stores predictions\n",
    "            loss=outputs.loss # calculating loss\n",
    "            loss.backward() # backward pass, computes gradients\n",
    "            optimizer.step() # adjust weights\n",
    "            total_loss+=loss.item()\n",
    "        \n",
    "        training_losses.append(total_loss/len(train_dataloader)) # average loss for each epoch across batches\n",
    "\n",
    "\n",
    "        # running model on testing data\n",
    "\n",
    "        model.eval()\n",
    "        with torch.no_grad(): # not calculated gradients\n",
    "            val_loss=0.0\n",
    "            val_f1_score, val_precision_score, val_recall_score=0,0,0\n",
    "            for batch in test_dataloader:\n",
    "                \n",
    "                val_inputs, val_masks, val_labels = batch\n",
    "                val_outputs = model(val_inputs, attention_mask=val_masks, labels=val_labels)\n",
    "                \n",
    "\n",
    "                val_loss += val_outputs.loss.item()\n",
    "                \n",
    "                val_outputs=val_outputs.logits.argmax(dim=1) #f1 calculation needs 1D tensor, class size x batch size (class size = 4, in this case)\n",
    "                val_f1_score += f1_score(val_outputs, val_labels, average='weighted')\n",
    "                val_precision_score += precision_score(val_outputs, val_labels, average='weighted')\n",
    "                val_recall_score += recall_score(val_outputs, val_labels, average='weighted', zero_division=0.0)\n",
    "\n",
    "            val_loss_list.append(val_loss/len(test_dataloader))\n",
    "            \n",
    "            val_f1_score=val_f1_score/len(test_dataloader)\n",
    "            val_precision_score=val_precision_score/len(test_dataloader)\n",
    "            val_recall_score=val_recall_score/len(test_dataloader)\n",
    "            print(f\"Validation Loss: {sum(val_loss_list)/len(val_loss_list)}, F1: {val_f1_score}, Precision: {val_precision_score}, Recall: {val_recall_score}\")\n",
    "\n",
    "            if PLOT_LOSSES:\n",
    "                plot_loss(training_losses, val_loss_list, EPOCHS, dynamic=True)\n",
    "                \n",
    "\n",
    "    \n",
    "    if PLOT_LOSSES:\n",
    "        plot_loss(training_losses, val_loss_list, EPOCHS, dynamic=False)\n",
    "    \n",
    "    return model, loss, optimizer, training_losses, val_loss_list\n",
    "\n"
   ]
  },
  {
   "cell_type": "code",
   "execution_count": 10,
   "metadata": {},
   "outputs": [
    {
     "name": "stdout",
     "output_type": "stream",
     "text": [
      "[ 0  1  2  3  4  5  6  7  8  9 10] (11,)\n",
      "[1.25226513 1.11554926 1.07312365 0.96625941 0.85347433 0.68813908\n",
      " 0.55059917 0.42454975 0.31147614 0.22392073 0.16543222] (11,)\n",
      "[1.14644204 1.10962577 1.09043762 1.07968934 1.1168275  1.1468647\n",
      " 1.18024784 1.27565531 1.36532443 1.46356484 1.47922954] (11,)\n"
     ]
    },
    {
     "data": {
      "image/png": "[encoded data removed]",
      "text/plain": [
       "<Figure size 640x480 with 1 Axes>"
      ]
     },
     "metadata": {},
     "output_type": "display_data"
    },
    {
     "data": {
      "text/plain": [
       "<Figure size 640x480 with 0 Axes>"
      ]
     },
     "metadata": {},
     "output_type": "display_data"
    },
    {
     "data": {
      "text/plain": [
       "(BertForSequenceClassification(\n",
       "   (bert): BertModel(\n",
       "     (embeddings): BertEmbeddings(\n",
       "       (word_embeddings): Embedding(30522, 768, padding_idx=0)\n",
       "       (position_embeddings): Embedding(512, 768)\n",
       "       (token_type_embeddings): Embedding(2, 768)\n",
       "       (LayerNorm): LayerNorm((768,), eps=1e-12, elementwise_affine=True)\n",
       "       (dropout): Dropout(p=0.1, inplace=False)\n",
       "     )\n",
       "     (encoder): BertEncoder(\n",
       "       (layer): ModuleList(\n",
       "         (0-11): 12 x BertLayer(\n",
       "           (attention): BertAttention(\n",
       "             (self): BertSdpaSelfAttention(\n",
       "               (query): Linear(in_features=768, out_features=768, bias=True)\n",
       "               (key): Linear(in_features=768, out_features=768, bias=True)\n",
       "               (value): Linear(in_features=768, out_features=768, bias=True)\n",
       "               (dropout): Dropout(p=0.1, inplace=False)\n",
       "             )\n",
       "             (output): BertSelfOutput(\n",
       "               (dense): Linear(in_features=768, out_features=768, bias=True)\n",
       "               (LayerNorm): LayerNorm((768,), eps=1e-12, elementwise_affine=True)\n",
       "               (dropout): Dropout(p=0.1, inplace=False)\n",
       "             )\n",
       "           )\n",
       "           (intermediate): BertIntermediate(\n",
       "             (dense): Linear(in_features=768, out_features=3072, bias=True)\n",
       "             (intermediate_act_fn): GELUActivation()\n",
       "           )\n",
       "           (output): BertOutput(\n",
       "             (dense): Linear(in_features=3072, out_features=768, bias=True)\n",
       "             (LayerNorm): LayerNorm((768,), eps=1e-12, elementwise_affine=True)\n",
       "             (dropout): Dropout(p=0.1, inplace=False)\n",
       "           )\n",
       "         )\n",
       "       )\n",
       "     )\n",
       "     (pooler): BertPooler(\n",
       "       (dense): Linear(in_features=768, out_features=768, bias=True)\n",
       "       (activation): Tanh()\n",
       "     )\n",
       "   )\n",
       "   (dropout): Dropout(p=0.1, inplace=False)\n",
       "   (classifier): Linear(in_features=768, out_features=4, bias=True)\n",
       " ),\n",
       " tensor(0.2503, grad_fn=<NllLossBackward0>),\n",
       " AdamW (\n",
       " Parameter Group 0\n",
       "     amsgrad: False\n",
       "     betas: (0.9, 0.999)\n",
       "     capturable: False\n",
       "     differentiable: False\n",
       "     eps: 1e-08\n",
       "     foreach: None\n",
       "     fused: None\n",
       "     lr: 1e-05\n",
       "     maximize: False\n",
       "     weight_decay: 0.01\n",
       " ),\n",
       " [1.2522651310320254,\n",
       "  1.11554925971561,\n",
       "  1.0731236471070185,\n",
       "  0.9662594088801632,\n",
       "  0.8534743344342267,\n",
       "  0.688139079897492,\n",
       "  0.5505991666405289,\n",
       "  0.4245497496039779,\n",
       "  0.3114761445257399,\n",
       "  0.22392073025306067,\n",
       "  0.16543221804830763],\n",
       " [1.1464420386723109,\n",
       "  1.1096257652555193,\n",
       "  1.090437616620745,\n",
       "  1.0796893409320287,\n",
       "  1.1168274964605058,\n",
       "  1.1468646952084132,\n",
       "  1.1802478432655334,\n",
       "  1.275655312197549,\n",
       "  1.3653244291033064,\n",
       "  1.4635648386819022,\n",
       "  1.4792295353753226])"
      ]
     },
     "execution_count": 10,
     "metadata": {},
     "output_type": "execute_result"
    },
    {
     "data": {
      "text/plain": [
       "<Figure size 640x480 with 0 Axes>"
      ]
     },
     "metadata": {},
     "output_type": "display_data"
    }
   ],
   "source": [
    "training_loop(PLOT_LOSSES=True)"
   ]
  },
  {
   "cell_type": "code",
   "execution_count": null,
   "metadata": {},
   "outputs": [],
   "source": []
  }
 ],
 "metadata": {
  "kernelspec": {
   "display_name": "Python 3",
   "language": "python",
   "name": "python3"
  },
  "language_info": {
   "codemirror_mode": {
    "name": "ipython",
    "version": 3
   },
   "file_extension": ".py",
   "mimetype": "text/x-python",
   "name": "python",
   "nbconvert_exporter": "python",
   "pygments_lexer": "ipython3",
   "version": "3.10.6"
  }
 },
 "nbformat": 4,
 "nbformat_minor": 2
}
